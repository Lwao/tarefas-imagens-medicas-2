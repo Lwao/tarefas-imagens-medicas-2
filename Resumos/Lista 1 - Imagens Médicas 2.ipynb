{
 "cells": [
  {
   "cell_type": "markdown",
   "source": [
    "---\n",
    "\n",
    "Universidade Federal de Uberlândia\n",
    "\n",
    "Faculdade de Engenharia Elétrica\n",
    "\n",
    "Imagens Médicas 2\n",
    "\n",
    "Discente: Levy Gabriel da S. G.\n",
    "\n",
    "---"
   ],
   "metadata": {}
  },
  {
   "cell_type": "code",
   "execution_count": 2,
   "source": [
    "from IPython.display import Image\r\n",
    "from matplotlib import image\r\n",
    "import matplotlib.pyplot as plt\r\n",
    "import numpy as np\r\n",
    "\r\n",
    "def imageNcaption(filename, caption):\r\n",
    "    display(Image(filename=filename))\r\n",
    "    print(caption)"
   ],
   "outputs": [],
   "metadata": {}
  },
  {
   "cell_type": "markdown",
   "source": [
    "# Lista 1"
   ],
   "metadata": {}
  },
  {
   "cell_type": "markdown",
   "source": [
    "## Questão 1"
   ],
   "metadata": {}
  },
  {
   "cell_type": "code",
   "execution_count": 3,
   "source": [
    "imageNcaption('captura.PNG', 'Figura 1 - Imagem para a primeira questão.')"
   ],
   "outputs": [
    {
     "output_type": "display_data",
     "data": {
      "text/plain": [
       "<IPython.core.display.Image object>"
      ],
      "image/png": "[encoded data removed]"
     },
     "metadata": {}
    },
    {
     "output_type": "stream",
     "name": "stdout",
     "text": [
      "Figura 1 - Imagem para a primeira questão.\n"
     ]
    }
   ],
   "metadata": {}
  },
  {
   "cell_type": "markdown",
   "source": [
    "### a) "
   ],
   "metadata": {}
  },
  {
   "cell_type": "markdown",
   "source": [
    "Aplicar mediana 3x3 e obter $f(1,1)$ e $f(3,3)$"
   ],
   "metadata": {}
  },
  {
   "cell_type": "markdown",
   "source": [
    "```\r\n",
    "f(1,1) = mediana([0,0,0,0,0,0,0,0,200]) = 0 \r\n",
    "f(1,2) = mediana([0,0,0,0,0,0,120,150,200]) = 0\r\n",
    "f(1,3) = mediana([0,0,0,0,0,120,150,200,200]) = 0 \r\n",
    "f(1,4) = mediana([0,0,0,0,0,120,150,200,200]) = 0 \r\n",
    "\r\n",
    "f(2,1) = mediana([0,0,0,0,0,0,0,200,200]) = 0 \r\n",
    "f(2,2) = mediana([0,0,0,0,120,150,150,200,200]) = 120 \r\n",
    "f(2,3) = mediana([0,0,0,120,150,150,200,200,200]) = 150 \r\n",
    "f(2,4) = mediana([0,0,0,120,150,150,200,200,200]) = 150\r\n",
    "\r\n",
    "f(3,1) = mediana([0,0,0,0,0,0,10,200,200]) = 0\r\n",
    "f(3,2) = mediana([0,0,0,10,150,150,155,200,200]) = 150 \r\n",
    "f(3,3) = mediana([0,0,10,150,150,155,200,200,210]) = 150 \r\n",
    "f(3,4) = mediana([0,0,0,150,150,155,200,200,210]) = 150 \r\n",
    "\r\n",
    "f(4,1) = mediana([0,0,0,0,0,0,10,200,200]) = 0\r\n",
    "f(4,2) = mediana([0,0,0,0,10,150,155,200,200]) = 10\r\n",
    "f(4,3) = mediana([0,0,0,0,10,150,155,200,210]) = 10\r\n",
    "f(4,4) = mediana([0,0,0,0,0,150,155,200,210]) = 0\r\n",
    "```"
   ],
   "metadata": {}
  },
  {
   "cell_type": "markdown",
   "source": [
    "Assim $f(1,1) = 0$ e $f(3,3) = 150$"
   ],
   "metadata": {}
  },
  {
   "cell_type": "markdown",
   "source": [
    "### b)"
   ],
   "metadata": {}
  },
  {
   "cell_type": "markdown",
   "source": [
    "Aplicar média 2x2 e obter $f(1,1)$, $f(2,2)$ e $f(3,3)$"
   ],
   "metadata": {}
  },
  {
   "cell_type": "markdown",
   "source": [
    "```\r\n",
    "f(1,1) = (0+0+0+200)/9 = 22.2 = 22\r\n",
    "f(1,2) = (0+0+120+150)/9 = 30 = 30\r\n",
    "f(1,3) = (120+150+200+200)/9 = 74.4 = 74 \r\n",
    "\r\n",
    "f(2,1) = (0+0+0+200)/9 = 22.2 = 22\r\n",
    "f(2,2) = (0+0+150+150)/9 = 33.3 = 33\r\n",
    "f(2,3) = (150+150+200+200))/9 = 77.7 = 78 \r\n",
    "\r\n",
    "f(3,1) = (0+10+200+200)/9 = 45.5 = 46\r\n",
    "f(3,2) = (0+10+150+155)/9 = 35 = 35\r\n",
    "f(3,3) = (150+155+200+210)/9 = 79.4 = 79 \r\n",
    "\r\n",
    "```"
   ],
   "metadata": {}
  },
  {
   "cell_type": "markdown",
   "source": [
    "Assim $f(1,1) = 22$, $f(2,2) = 33$ e $f(3,3) = 79$"
   ],
   "metadata": {}
  },
  {
   "cell_type": "markdown",
   "source": [
    "# Extra"
   ],
   "metadata": {}
  },
  {
   "cell_type": "markdown",
   "source": [
    "```\r\n",
    "f(1,1) = \r\n",
    "f(1,2) = \r\n",
    "f(1,3) = \r\n",
    "f(1,4) = \r\n",
    "\r\n",
    "f(2,1) = \r\n",
    "f(2,2) = \r\n",
    "f(2,3) = \r\n",
    "f(2,4) = \r\n",
    "\r\n",
    "f(3,1) = \r\n",
    "f(3,2) = \r\n",
    "f(3,3) = \r\n",
    "f(3,4) = \r\n",
    "\r\n",
    "f(4,1) = \r\n",
    "f(4,2) = \r\n",
    "f(4,3) = \r\n",
    "f(4,4) = \r\n",
    "\r\n",
    "```"
   ],
   "metadata": {}
  },
  {
   "cell_type": "markdown",
   "source": [
    "```\r\n",
    "f(1,1) = mediana([]) = \r\n",
    "f(1,2) = mediana([]) = \r\n",
    "f(1,3) = mediana([]) = \r\n",
    "f(1,4) = mediana([]) = \r\n",
    "\r\n",
    "f(2,1) = mediana([]) = \r\n",
    "f(2,2) = mediana([]) = \r\n",
    "f(2,3) = mediana([]) = \r\n",
    "f(2,4) = mediana([]) = \r\n",
    "\r\n",
    "f(3,1) = mediana([]) = \r\n",
    "f(3,2) = mediana([]) = \r\n",
    "f(3,3) = mediana([]) = \r\n",
    "f(3,4) = mediana([]) = \r\n",
    "\r\n",
    "f(4,1) = mediana([]) = \r\n",
    "f(4,2) = mediana([]) = \r\n",
    "f(4,3) = mediana([]) = \r\n",
    "f(4,4) = mediana([]) = \r\n",
    "```"
   ],
   "metadata": {}
  }
 ],
 "metadata": {
  "colab": {
   "authorship_tag": "ABX9TyPaB1Gg5DNbiRfX6pbAGJuX",
   "name": "CLP_exercicios_aula5.ipynb",
   "provenance": []
  },
  "hide_input": false,
  "kernelspec": {
   "name": "python3",
   "display_name": "Python 3.8.10 64-bit (conda)"
  },
  "language_info": {
   "codemirror_mode": {
    "name": "ipython",
    "version": 3
   },
   "file_extension": ".py",
   "mimetype": "text/x-python",
   "name": "python",
   "nbconvert_exporter": "python",
   "pygments_lexer": "ipython3",
   "version": "3.8.10"
  },
  "interpreter": {
   "hash": "1e87f45ea6456f954092e3c66abf7b40f0e1d2f9e9713a423f4cac954e0c2624"
  }
 },
 "nbformat": 4,
 "nbformat_minor": 4
}