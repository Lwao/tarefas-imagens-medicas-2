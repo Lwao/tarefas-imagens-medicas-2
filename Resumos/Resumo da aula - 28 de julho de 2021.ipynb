{
 "cells": [
  {
   "cell_type": "markdown",
   "metadata": {},
   "source": [
    "---\n",
    "\n",
    "Universidade Federal de Uberlândia\n",
    "\n",
    "Faculdade de Engenharia Elétrica\n",
    "\n",
    "Imagens Médicas 2\n",
    "\n",
    "Discente: Levy Gabriel da S. G.\n",
    "\n",
    "---"
   ]
  },
  {
   "cell_type": "markdown",
   "metadata": {},
   "source": [
    "# Resumo da aula - 28 de julho de 2021"
   ]
  },
  {
   "cell_type": "markdown",
   "metadata": {},
   "source": [
    "## Transformação de intensidade"
   ]
  },
  {
   "cell_type": "markdown",
   "metadata": {},
   "source": [
    "### Transformações ponto a ponto"
   ]
  },
  {
   "cell_type": "markdown",
   "metadata": {},
   "source": [
    "As operações de **transformação de intensidade** manipulam diretamente os pixels de uma imagem. Estas possuem a finalidade de manipular contraste, brilho e limiarização de imagens.\n",
    "\n",
    "Essas transformações podem ser ilustradas por um operador $T$ que modifica uma imagem $f(x,y)$ em uma imagem $g(x,y) = T[f(x,y)]$ e que atua pixel a pixel. Como as iamgens $f$ e $g$ possuem mesmas dimensões, a transformação em um pixel de $f$ na posição $(x,y)$ deve ser armazenada em $g$ na mesma posição $(x,y)$.\n",
    "\n",
    "A transformação $T$ de um valor de pixel em outro pode ter vários formatos, sendo eles:\n",
    "\n",
    "- Linear (transformações de negativo e identidade);\n",
    "- Logarítmicas (transformações de log e log inverso);\n",
    "- De potência (transformações de n-ésima potência e n-ésima raiz);\n",
    "\n",
    "Essas transformações atuam de forma diferente de acordo com o valor do pixel original em $f(x,y)$. Por exemplo, a função log inverso de comportamento exponencial irá transformar pixels de até uma intensidade média a um pixel de intensidade baixa e após um ponto de inflexão transformará valores de pixel altos e outros valores mais altos.\n",
    "\n",
    "A correção gamma em um pixel é feita pela seguinte expressão: $s = c\\cdot r^{\\gamma}$. Esse comportamento exponencial da constante gamma, denota que altos valores de gamma irão reduzir o brilho da imagem e o contrário aumentar o brilho da imagem.\n",
    "\n",
    "Outra operação importante é o negativo de uma imagem, que diz respeito ao complemento do valor do pixel em relação ao seu nível máximo. Se considerar um valor de pixel $r$ normalizado por seu valor máximo (se a imagem for de 8-bits, este foi normalizado por $L-1=255$, assim por diante), permitindo que assuma valores entre $0$ e $1$, seu pixel negativo $s$ será $s=1-r$."
   ]
  },
  {
   "cell_type": "markdown",
   "metadata": {},
   "source": [
    "### Histograma"
   ]
  },
  {
   "cell_type": "markdown",
   "metadata": {},
   "source": [
    "O histograma de uma imagem quantifica quantos pixels de uma mesma cor possui em uma imagem, produzindo o número de ocorrências da intensidade do pixel em uma escala. As propriedades do histograma são:\n",
    "\n",
    "- Uma imagem condensado em um histograma perde sua informação da distribuição espacial, pois seus pixels estarão ordenados unidimensionalmente de acordo com suas intensidades;\n",
    "- A função densidade de probabilidade da imagem pode ser obtida dividindo-se o histograma pela área da imagem;\n",
    "- Imagens constituídas por duas ou mais regiões disjuntas, possuem um histograma que será a soma do histograma destas regiões;\n",
    "- Indica se a imagem possui escala apropriada;\n",
    "- Um histograma pode pertencer a diversas imagens, mas uma imagem possui histograma único.\n"
   ]
  },
  {
   "cell_type": "markdown",
   "metadata": {},
   "source": [
    "### Brilho e contraste"
   ]
  },
  {
   "cell_type": "markdown",
   "metadata": {},
   "source": [
    "O brilho representa a intensidade dos pixels e o contraste diz respeito à redistribuição dos pixels na escala de tons. Para modificação de brilho por um fator $b$ e contraste por um fator $c$, de uma imagem $f$ para uma imagem $g$ pode ser representada por várias transformações:\n",
    "\n",
    "- Linear: $g = c \\cdot f + b$, em que o brilho desloca os níveis da imagem de forma uniforme e o constraste altera a orientação dos pixels, fazendo com que o peso de pixels de baixa intensidade sejam ou não elevados;\n",
    "\n",
    "O deslocamento proporcionado pelo fator de ajuste de brilho haverá um impacto no histograma que irá deslocar seus níveis de intensidade uniformemente. No caso do contraste, o efeito será dependente do fato do fator de contraste, aumentando a distância entre as cores se o fator for maior que um e diminuir a diferença se for menor que um. No histograma o efeito será um espaçamento entre os níveis de intensidade, aumentando ou diminuindo a distância entre os tons."
   ]
  }
 ],
 "metadata": {
  "colab": {
   "authorship_tag": "ABX9TyPaB1Gg5DNbiRfX6pbAGJuX",
   "name": "CLP_exercicios_aula5.ipynb",
   "provenance": []
  },
  "hide_input": false,
  "kernelspec": {
   "display_name": "Python 3",
   "language": "python",
   "name": "python3"
  },
  "language_info": {
   "codemirror_mode": {
    "name": "ipython",
    "version": 3
   },
   "file_extension": ".py",
   "mimetype": "text/x-python",
   "name": "python",
   "nbconvert_exporter": "python",
   "pygments_lexer": "ipython3",
   "version": "3.8.10"
  }
 },
 "nbformat": 4,
 "nbformat_minor": 4
}
