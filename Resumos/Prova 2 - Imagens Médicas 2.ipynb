{
 "cells": [
  {
   "cell_type": "markdown",
   "metadata": {},
   "source": [
    "---\n",
    "\n",
    "Universidade Federal de Uberlândia\n",
    "\n",
    "Faculdade de Engenharia Elétrica\n",
    "\n",
    "Imagens Médicas 2\n",
    "\n",
    "Discente: Levy Gabriel da S. G.\n",
    "\n",
    "---"
   ]
  },
  {
   "cell_type": "markdown",
   "metadata": {},
   "source": [
    "# Configurações"
   ]
  },
  {
   "cell_type": "markdown",
   "metadata": {},
   "source": [
    "Para os fins que se fizerem necessários, creio que minha matrícula seja 1202XPMV508."
   ]
  },
  {
   "cell_type": "markdown",
   "metadata": {},
   "source": [
    "# Questão 1"
   ]
  },
  {
   "cell_type": "code",
   "execution_count": 4,
   "metadata": {},
   "outputs": [
    {
     "data": {
      "image/png": "[encoded data removed]",
      "text/plain": [
       "<IPython.core.display.Image object>"
      ]
     },
     "metadata": {},
     "output_type": "display_data"
    }
   ],
   "source": [
    "Imagem= [50 150 20; \n",
    "        70 170 20;\n",
    "        180 190 200;\n",
    "        0 150 20;\n",
    "        30 120 10] ;\n",
    "\n",
    "filtro1 = [-1,-1,-1 ; -1, 8, -1; -1, -1, -1];\n",
    "filtro2= [-1,2,-1 ; -1,2,-1;-1,2,-1];\n",
    "\n",
    "imshow(uint8(Imagem))"
   ]
  },
  {
   "cell_type": "code",
   "execution_count": 7,
   "metadata": {},
   "outputs": [],
   "source": [
    "pkg load image"
   ]
  },
  {
   "cell_type": "code",
   "execution_count": 11,
   "metadata": {},
   "outputs": [
    {
     "data": {
      "image/png": "[encoded data removed]",
      "text/plain": [
       "<IPython.core.display.Image object>"
      ]
     },
     "metadata": {},
     "output_type": "display_data"
    }
   ],
   "source": [
    "imshow(uint8(imfilter(Imagem, filtro1)+Imagem))"
   ]
  },
  {
   "cell_type": "code",
   "execution_count": 9,
   "metadata": {},
   "outputs": [
    {
     "data": {
      "image/png": "[encoded data removed]",
      "text/plain": [
       "<IPython.core.display.Image object>"
      ]
     },
     "metadata": {},
     "output_type": "display_data"
    }
   ],
   "source": [
    "imshow(uint8(imfilter(Imagem, filtro2)))"
   ]
  },
  {
   "cell_type": "markdown",
   "metadata": {},
   "source": [
    "a) Após ser aplicado o filtro 1, o resultado na imagem foi a detecção de suas bordas em ambas direções, permitindo ressaltar a trasição entre a parte mais clara (cruz) e seu entorno.\n",
    "\n",
    "b) O filtro 2 é uma caso especial do filtro anterior, pois o resultado deste na imagem só permitiu a detecção de linhas verticais, logo ressaltando apenas a porção vertical da cruz observada anteriormente.\n",
    "\n",
    "c) Os passos para o correto realce de uma imagem é: 1. aplicar o filtro de realce na imagem original; 2. após obtida a detecção das bordas da imagem com a imagem filtrada, esta deve ser somada à imagem original para que se obtenha a imagem realçada.\n",
    "\n",
    "d) \n",
    "\n",
    "Filtro 1 - Imagem filtrada\n",
    "```\n",
    "f(2,3) = (-1)*150+(-1)*20+(-1)*0+ (-1)*170+(8)*20+(-1)*0+ (-1)*190+(-1)*200+(-1)*0 = -570 = 0\n",
    "f(1,3) = (-1)*0+(-1)*0+(-1)*0+ (-1)*150+(8)*20+(-1)*0+ (-1)*170+(-1)*20+(-1)*0 = -180 = 0\n",
    "f(4,2) = (-1)*180+(-1)*190+(-1)*200+ (-1)*0+(8)*150+(-1)*20+ (-1)*30+(-1)*120+(-1)*10 = 450 = 255\n",
    "f(5,3) = (-1)*150+(-1)*20+(-1)*0+ (-1)*120+(8)*10+(-1)*0+ (-1)*0+(-1)*0+(-1)*0 = -210 = 0\n",
    "```\n",
    "Filtro 1 - Imagem realçada\n",
    "f(2,3) = -570 + 20 = -550 = 0\n",
    "f(1,3) = -180 + 20 = -160 = 0\n",
    "f(4,2) = 450 + 150 = 600 = 255\n",
    "f(5,3) = -210 + 10 = -200 = 0\n",
    "\n",
    "Filtro 2 - Imagem filtrada\n",
    "```\n",
    "f(2,3) = (-1)*150+(2)*20+(-1)*0+ (-1)*170+(2)*20+(-1)*0+ (-1)*190+(2)*200+(-1)*0 = -30 = 0\n",
    "f(1,3) = (-1)*0+(2)*0+(-1)*0+ (-1)*150+(2)*20+(-1)*0+ (-1)*170+(2)*20+(-1)*0 = -240 = 0\n",
    "f(4,2) = (-1)*180+(2)*190+(-1)*200+ (-1)*0+(2)*150+(-1)*20+ (-1)*30+(2)*120+(-1)*10 = 480 = 255\n",
    "f(5,3) = (-1)*150+(2)*20+(-1)*0+ (-1)*120+(2)*10+(-1)*0+ (-1)*0+(2)*0+(-1)*0 = -210 = 0\n",
    "```\n",
    "Filtro 2 - Imagem realçada\n",
    "f(2,3) = -30 + 20 = -10 = 0\n",
    "f(1,3) = -240 + 20 = -220 = 0\n",
    "f(4,2) = 480 + 150 = 630 = 255\n",
    "f(5,3) = -210 + 10 = -200 = 0"
   ]
  },
  {
   "cell_type": "markdown",
   "metadata": {},
   "source": [
    "# Questão 2"
   ]
  },
  {
   "cell_type": "markdown",
   "metadata": {},
   "source": [
    "Na cena 1, o filtro aplicado é um de natureza passa-altas e, possivelmente ideal (a imagem está borrada e dificulta entender o filtro). O que corrobora para que o filtro seja ideal é o efeito de ringing na imagem filtrada. Caso a frequêncai de corte fosse dobrada, os contornos da imagem seria melhor delineados e o reconhecimento de características de baixa frequência diminuiriam, pois na situação atual ainda indentifica-se a região de intensidade de cor contínua do cérebro.\n",
    "\n",
    "Na cena 2, o filtro aplicado é um passa-baixas ideal devido ao claro efeito de ringing e o borramento. Caso a frequência de corte dobrasse, o efeito de borramento seria reduzido, produzindo uma imagem mais próxima da original, mas ainda com borramento e um efeito de ringing menor."
   ]
  },
  {
   "cell_type": "markdown",
   "metadata": {},
   "source": [
    "# Questão 3"
   ]
  },
  {
   "cell_type": "markdown",
   "metadata": {},
   "source": [
    "V - Considerando uma imagem no domínio da frequência, altas frequências correspondem as intensidade de cor de pixels mais claras e a baixas correspondem as cores mais escuras.\n",
    "\n",
    "V - As baixas frequências de uma imagem aparecem no cento do espectro.  Depois de serem centralizadas\n",
    "\n",
    "V - Todos os tipos de ruídos podem ser suavizados ou eliminados tanto do domínio espacial quanto no domínio da frequência.\n",
    "\n",
    "F - Os ruídos periódicos são característicos em imagens planares.\n",
    "\n",
    "F - Os filtros de média e de mínimo são filtros espaciais que podem suavizar ruídos periódicos, uma vez que ambos resultam em suavização\n",
    "\n",
    "V - Os filtros espaciais derivativos podem ser usados tanto para realçar altas frequências quando para detectar bordas direcionais.\n",
    "\n",
    "F - O processo de restauração de uma imagem de uma imagem de ressonância magnética envolve combinações de filtros pois no processo de aquisição da imagem nesta modalidade tem-se diversos tipos de ruído."
   ]
  },
  {
   "cell_type": "markdown",
   "metadata": {},
   "source": [
    "# Questão 4"
   ]
  },
  {
   "cell_type": "markdown",
   "metadata": {},
   "source": [
    "a) Outro ruído presente seria o ruído de quantização resultante da falta de resolução na aquisição da imagem, resultando em blocos de pixels de cor única, onde de fato deveria haver uma suavidade na transição das intensidade. Isso pode ser observado ao observado o objeto externo inserido no crânio que possui suas bordas com cores transitando entre baixas e altas intensidades e com transição pixelada.\n",
    "\n",
    "b) O ruído Gaussiano afeta altas frequência, portanto um filtro para elimná-lo seria um de natureza passa-baixas, podendo ser um filtro Butterworth passa-baixas na frequência ou um filtro de média no espaço.\n",
    "\n",
    "O ruído quântico possui distribuição de Poisson. A imagem contaminada por esse ruído pode ser tratada por um filtro de média para realizar a interpolação entre pixels de fótons inexistentes ou até um filtro de mediana para o mesmo propósito, pois resultaria em um efeito semelhante ao ruído sal e pimenta.\n",
    "\n",
    "Como o ruído de quantização também possui natureza de alta frequência, um filtro passa-baixas também pdoeria resolver esse problema."
   ]
  }
 ],
 "metadata": {
  "colab": {
   "authorship_tag": "ABX9TyPaB1Gg5DNbiRfX6pbAGJuX",
   "name": "CLP_exercicios_aula5.ipynb",
   "provenance": []
  },
  "hide_input": false,
  "interpreter": {
   "hash": "1e87f45ea6456f954092e3c66abf7b40f0e1d2f9e9713a423f4cac954e0c2624"
  },
  "kernelspec": {
   "display_name": "Octave",
   "language": "octave",
   "name": "python3810jvsc74a57bd01e87f45ea6456f954092e3c66abf7b40f0e1d2f9e9713a423f4cac954e0c2624"
  },
  "language_info": {
   "file_extension": ".m",
   "help_links": [
    {
     "text": "GNU Octave",
     "url": "https://www.gnu.org/software/octave/support.html"
    },
    {
     "text": "Octave Kernel",
     "url": "https://github.com/Calysto/octave_kernel"
    },
    {
     "text": "MetaKernel Magics",
     "url": "https://metakernel.readthedocs.io/en/latest/source/README.html"
    }
   ],
   "mimetype": "text/x-octave",
   "name": "octave",
   "version": "5.2.0"
  }
 },
 "nbformat": 4,
 "nbformat_minor": 4
}
